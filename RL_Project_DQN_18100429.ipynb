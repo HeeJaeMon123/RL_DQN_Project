{
 "cells": [
  {
   "cell_type": "code",
   "execution_count": 4,
   "metadata": {},
   "outputs": [],
   "source": [
    "import gym\n",
    "import collections\n",
    "import random\n",
    "import matplotlib.pyplot as plt\n",
    "import torch\n",
    "import torch.nn as nn\n",
    "import torch.nn.functional as F\n",
    "import torch.optim as optim\n",
    "%matplotlib inline"
   ]
  },
  {
   "cell_type": "code",
   "execution_count": 5,
   "metadata": {},
   "outputs": [
    {
     "name": "stdout",
     "output_type": "stream",
     "text": [
      "2\n",
      "Box(4,)\n"
     ]
    }
   ],
   "source": [
    "env = gym.make('CartPole-v1')\n",
    "print(env.action_space.n)\n",
    "print(env.observation_space)"
   ]
  },
  {
   "cell_type": "markdown",
   "metadata": {},
   "source": [
    "# Hyperparameter"
   ]
  },
  {
   "cell_type": "code",
   "execution_count": 13,
   "metadata": {},
   "outputs": [],
   "source": [
    "#Hyperparameters\n",
    "learning_rate = 0.5\n",
    "gamma = 0.98\n",
    "buffer_limit = 50000\n",
    "batch_size = 32\n",
    "eps_max = 0.5\n",
    "eps_min = 0.05\n",
    "eps_decay_steps = 5000"
   ]
  },
  {
   "cell_type": "markdown",
   "metadata": {},
   "source": [
    "# ReplayBuffer"
   ]
  },
  {
   "cell_type": "code",
   "execution_count": 14,
   "metadata": {},
   "outputs": [],
   "source": [
    "class ReplayBuffer():\n",
    "    def __init__(self):\n",
    "        self.buffer = collections.deque(maxlen=buffer_limit)\n",
    "    \n",
    "    # transition 집어넣어줌\n",
    "    def put(self, transition):\n",
    "        self.buffer.append(transition)\n",
    "    \n",
    "    # buffer에서 32개를 random으로 뽑아서 random batch를 만듦\n",
    "    def sample(self, n):\n",
    "        random_batch = random.sample(self.buffer, n)\n",
    "        state, action, reward, next_state, done = [], [], [], [], []\n",
    "        \n",
    "        for transition in random_batch:\n",
    "            s, a, r, s_prime, done_mask = transition\n",
    "            state.append(s)\n",
    "            action.append([a])\n",
    "            reward.append([r])\n",
    "            next_state.append(s_prime)\n",
    "            done.append([done_mask])\n",
    "\n",
    "        return torch.tensor(state, dtype=torch.float), torch.tensor(action), \\\n",
    "               torch.tensor(reward), torch.tensor(next_state, dtype=torch.float), torch.tensor(done)\n",
    "    \n",
    "    def size(self):\n",
    "        return len(self.buffer)"
   ]
  },
  {
   "cell_type": "markdown",
   "metadata": {},
   "source": [
    "# Q Network"
   ]
  },
  {
   "cell_type": "code",
   "execution_count": 15,
   "metadata": {},
   "outputs": [],
   "source": [
    "class Qnet(nn.Module):\n",
    "    def __init__(self):\n",
    "        super(Qnet, self).__init__()\n",
    "        self.fc1 = nn.Linear(4, 256)\n",
    "        self.fc2 = nn.Linear(256, 256)\n",
    "        self.fc3 = nn.Linear(256, 2)\n",
    "\n",
    "    def forward(self, x):\n",
    "        x = F.relu(self.fc1(x))\n",
    "        x = F.relu(self.fc2(x))\n",
    "        x = self.fc3(x)\n",
    "        return x\n",
    "      \n",
    "    def sample_action(self, obs, epsilon):\n",
    "        output = self.forward(obs)\n",
    "        p = random.random()\n",
    "        if p < epsilon:\n",
    "            return random.randint(0,1)\n",
    "        else : \n",
    "            return output.argmax().item()"
   ]
  },
  {
   "cell_type": "markdown",
   "metadata": {},
   "source": [
    "# Train"
   ]
  },
  {
   "cell_type": "code",
   "execution_count": 16,
   "metadata": {},
   "outputs": [],
   "source": [
    "def train(q, q_target, memory, optimizer):\n",
    "    for i in range(10):\n",
    "        s,a,r,next_state,done_mask = memory.sample(batch_size)\n",
    "\n",
    "        q_out = q(s)\n",
    "        q_a = q_out.gather(1,a)\n",
    "        max_q_prime = q_target(next_state).max(1)[0].unsqueeze(1)\n",
    "        target = r + gamma * max_q_prime * done_mask\n",
    "        loss = F.smooth_l1_loss(q_a, target)\n",
    "        \n",
    "        optimizer.zero_grad()\n",
    "        loss.backward()\n",
    "        optimizer.step()"
   ]
  },
  {
   "cell_type": "markdown",
   "metadata": {},
   "source": [
    "# main"
   ]
  },
  {
   "cell_type": "code",
   "execution_count": 17,
   "metadata": {},
   "outputs": [],
   "source": [
    "def main():\n",
    "    result = []\n",
    "    q = Qnet()\n",
    "    q_target = Qnet()\n",
    "    q_target.load_state_dict(q.state_dict())\n",
    "    memory = ReplayBuffer()\n",
    "\n",
    "    print_interval = 100\n",
    "    score = 0.0  \n",
    "    optimizer = optim.Adam(q.parameters(), lr=learning_rate)\n",
    "    # episode = 5000\n",
    "    for n_epi in range(5000):\n",
    "        #epsilon decay\n",
    "        epsilon = max(eps_min, eps_max - (eps_max-eps_min)* n_epi/eps_decay_steps) \n",
    "        #환경 reset\n",
    "        s = env.reset()\n",
    "        done = False\n",
    "        while not done:   \n",
    "            a = q.sample_action(torch.from_numpy(s).float(), epsilon)      \n",
    "            s_prime, r, done, info = env.step(a)\n",
    "            done_mask = 0.0 if done else 1.0\n",
    "            memory.put((s,a,r/100.0,s_prime, done_mask))\n",
    "            s = s_prime\n",
    "            score += r\n",
    "            if done:\n",
    "                break\n",
    "        #샘플이 너무 작으면 안되므로 2000개가 넘으면 train을 시작한다.\n",
    "        if memory.size()>2000:\n",
    "            train(q, q_target, memory, optimizer)\n",
    "        #average score구함\n",
    "        if n_epi%print_interval==0 and n_epi!=0:\n",
    "            q_target.load_state_dict(q.state_dict())\n",
    "            print(\"n_episode :{}, score : {:.1f}, eps : {:.1f}%\".format(n_epi, score/print_interval, epsilon*100))\n",
    "            result.append(score)\n",
    "            score = 0.0\n",
    "    env.close()\n",
    "    return result"
   ]
  },
  {
   "cell_type": "markdown",
   "metadata": {},
   "source": [
    "# eps_max = 0.5"
   ]
  },
  {
   "cell_type": "code",
   "execution_count": 116,
   "metadata": {},
   "outputs": [
    {
     "name": "stdout",
     "output_type": "stream",
     "text": [
      "n_episode :100, score : 26.2, eps : 49.1%\n",
      "n_episode :200, score : 12.6, eps : 48.2%\n",
      "n_episode :300, score : 13.7, eps : 47.3%\n",
      "n_episode :400, score : 15.1, eps : 46.4%\n",
      "n_episode :500, score : 23.6, eps : 45.5%\n",
      "n_episode :600, score : 30.2, eps : 44.6%\n",
      "n_episode :700, score : 50.1, eps : 43.7%\n",
      "n_episode :800, score : 77.3, eps : 42.8%\n",
      "n_episode :900, score : 127.0, eps : 41.9%\n",
      "n_episode :1000, score : 144.4, eps : 41.0%\n",
      "n_episode :1100, score : 120.8, eps : 40.1%\n",
      "n_episode :1200, score : 113.8, eps : 39.2%\n",
      "n_episode :1300, score : 120.0, eps : 38.3%\n",
      "n_episode :1400, score : 114.0, eps : 37.4%\n",
      "n_episode :1500, score : 88.9, eps : 36.5%\n",
      "n_episode :1600, score : 100.5, eps : 35.6%\n",
      "n_episode :1700, score : 110.6, eps : 34.7%\n",
      "n_episode :1800, score : 113.8, eps : 33.8%\n",
      "n_episode :1900, score : 113.9, eps : 32.9%\n",
      "n_episode :2000, score : 96.8, eps : 32.0%\n",
      "n_episode :2100, score : 74.0, eps : 31.1%\n",
      "n_episode :2200, score : 55.5, eps : 30.2%\n",
      "n_episode :2300, score : 50.1, eps : 29.3%\n",
      "n_episode :2400, score : 63.6, eps : 28.4%\n",
      "n_episode :2500, score : 104.0, eps : 27.5%\n",
      "n_episode :2600, score : 145.1, eps : 26.6%\n",
      "n_episode :2700, score : 113.3, eps : 25.7%\n",
      "n_episode :2800, score : 143.6, eps : 24.8%\n",
      "n_episode :2900, score : 175.1, eps : 23.9%\n",
      "n_episode :3000, score : 151.2, eps : 23.0%\n",
      "n_episode :3100, score : 124.8, eps : 22.1%\n",
      "n_episode :3200, score : 91.1, eps : 21.2%\n",
      "n_episode :3300, score : 124.4, eps : 20.3%\n",
      "n_episode :3400, score : 107.5, eps : 19.4%\n",
      "n_episode :3500, score : 96.8, eps : 18.5%\n",
      "n_episode :3600, score : 74.1, eps : 17.6%\n",
      "n_episode :3700, score : 121.3, eps : 16.7%\n",
      "n_episode :3800, score : 118.2, eps : 15.8%\n",
      "n_episode :3900, score : 95.2, eps : 14.9%\n",
      "n_episode :4000, score : 111.5, eps : 14.0%\n",
      "n_episode :4100, score : 182.1, eps : 13.1%\n",
      "n_episode :4200, score : 294.9, eps : 12.2%\n",
      "n_episode :4300, score : 393.0, eps : 11.3%\n",
      "n_episode :4400, score : 335.8, eps : 10.4%\n",
      "n_episode :4500, score : 333.4, eps : 9.5%\n",
      "n_episode :4600, score : 330.4, eps : 8.6%\n",
      "n_episode :4700, score : 295.4, eps : 7.7%\n",
      "n_episode :4800, score : 302.8, eps : 6.8%\n",
      "n_episode :4900, score : 332.6, eps : 5.9%\n"
     ]
    },
    {
     "data": {
      "text/plain": [
       "[2624.0,\n",
       " 1264.0,\n",
       " 1371.0,\n",
       " 1509.0,\n",
       " 2356.0,\n",
       " 3025.0,\n",
       " 5012.0,\n",
       " 7728.0,\n",
       " 12702.0,\n",
       " 14443.0,\n",
       " 12078.0,\n",
       " 11380.0,\n",
       " 12002.0,\n",
       " 11395.0,\n",
       " 8887.0,\n",
       " 10055.0,\n",
       " 11059.0,\n",
       " 11382.0,\n",
       " 11393.0,\n",
       " 9683.0,\n",
       " 7399.0,\n",
       " 5552.0,\n",
       " 5006.0,\n",
       " 6362.0,\n",
       " 10403.0,\n",
       " 14510.0,\n",
       " 11326.0,\n",
       " 14363.0,\n",
       " 17514.0,\n",
       " 15122.0,\n",
       " 12480.0,\n",
       " 9111.0,\n",
       " 12440.0,\n",
       " 10755.0,\n",
       " 9678.0,\n",
       " 7409.0,\n",
       " 12132.0,\n",
       " 11819.0,\n",
       " 9516.0,\n",
       " 11145.0,\n",
       " 18206.0,\n",
       " 29487.0,\n",
       " 39299.0,\n",
       " 33576.0,\n",
       " 33338.0,\n",
       " 33038.0,\n",
       " 29542.0,\n",
       " 30279.0,\n",
       " 33256.0]"
      ]
     },
     "execution_count": 116,
     "metadata": {},
     "output_type": "execute_result"
    }
   ],
   "source": [
    "if __name__ == '__main__':\n",
    "    result = main()\n",
    "result"
   ]
  },
  {
   "cell_type": "code",
   "execution_count": 119,
   "metadata": {},
   "outputs": [
    {
     "data": {
      "image/png": "[encoded data removed]",
      "text/plain": [
       "<matplotlib.figure.Figure at 0x7f58eb148080>"
      ]
     },
     "metadata": {},
     "output_type": "display_data"
    }
   ],
   "source": [
    "plt.plot(result)\n",
    "plt.show()"
   ]
  },
  {
   "cell_type": "markdown",
   "metadata": {},
   "source": [
    "# eps_max = 0.3"
   ]
  },
  {
   "cell_type": "code",
   "execution_count": 125,
   "metadata": {},
   "outputs": [
    {
     "name": "stdout",
     "output_type": "stream",
     "text": [
      "n_episode :100, score : 11.3, eps : 29.5%\n",
      "n_episode :200, score : 15.8, eps : 29.0%\n",
      "n_episode :300, score : 22.3, eps : 28.5%\n",
      "n_episode :400, score : 28.9, eps : 28.0%\n",
      "n_episode :500, score : 45.6, eps : 27.5%\n",
      "n_episode :600, score : 38.1, eps : 27.0%\n",
      "n_episode :700, score : 83.3, eps : 26.5%\n",
      "n_episode :800, score : 129.7, eps : 26.0%\n",
      "n_episode :900, score : 128.2, eps : 25.5%\n",
      "n_episode :1000, score : 178.0, eps : 25.0%\n",
      "n_episode :1100, score : 180.4, eps : 24.5%\n",
      "n_episode :1200, score : 154.0, eps : 24.0%\n",
      "n_episode :1300, score : 146.1, eps : 23.5%\n",
      "n_episode :1400, score : 125.7, eps : 23.0%\n",
      "n_episode :1500, score : 75.5, eps : 22.5%\n",
      "n_episode :1600, score : 105.8, eps : 22.0%\n",
      "n_episode :1700, score : 92.4, eps : 21.5%\n",
      "n_episode :1800, score : 90.2, eps : 21.0%\n",
      "n_episode :1900, score : 110.5, eps : 20.5%\n",
      "n_episode :2000, score : 100.3, eps : 20.0%\n",
      "n_episode :2100, score : 115.5, eps : 19.5%\n",
      "n_episode :2200, score : 101.1, eps : 19.0%\n",
      "n_episode :2300, score : 80.6, eps : 18.5%\n",
      "n_episode :2400, score : 106.8, eps : 18.0%\n",
      "n_episode :2500, score : 145.8, eps : 17.5%\n",
      "n_episode :2600, score : 147.9, eps : 17.0%\n",
      "n_episode :2700, score : 126.2, eps : 16.5%\n",
      "n_episode :2800, score : 141.5, eps : 16.0%\n",
      "n_episode :2900, score : 139.0, eps : 15.5%\n",
      "n_episode :3000, score : 140.3, eps : 15.0%\n",
      "n_episode :3100, score : 143.6, eps : 14.5%\n",
      "n_episode :3200, score : 161.1, eps : 14.0%\n",
      "n_episode :3300, score : 252.7, eps : 13.5%\n",
      "n_episode :3400, score : 265.3, eps : 13.0%\n",
      "n_episode :3500, score : 235.4, eps : 12.5%\n",
      "n_episode :3600, score : 232.2, eps : 12.0%\n",
      "n_episode :3700, score : 285.2, eps : 11.5%\n",
      "n_episode :3800, score : 163.6, eps : 11.0%\n",
      "n_episode :3900, score : 146.8, eps : 10.5%\n",
      "n_episode :4000, score : 256.6, eps : 10.0%\n",
      "n_episode :4100, score : 217.4, eps : 9.5%\n",
      "n_episode :4200, score : 205.1, eps : 9.0%\n",
      "n_episode :4300, score : 190.0, eps : 8.5%\n",
      "n_episode :4400, score : 146.1, eps : 8.0%\n",
      "n_episode :4500, score : 127.4, eps : 7.5%\n",
      "n_episode :4600, score : 212.3, eps : 7.0%\n",
      "n_episode :4700, score : 134.6, eps : 6.5%\n",
      "n_episode :4800, score : 135.6, eps : 6.0%\n",
      "n_episode :4900, score : 268.7, eps : 5.5%\n"
     ]
    },
    {
     "data": {
      "text/plain": [
       "[1131.0,\n",
       " 1580.0,\n",
       " 2232.0,\n",
       " 2888.0,\n",
       " 4561.0,\n",
       " 3814.0,\n",
       " 8329.0,\n",
       " 12971.0,\n",
       " 12821.0,\n",
       " 17803.0,\n",
       " 18041.0,\n",
       " 15398.0,\n",
       " 14608.0,\n",
       " 12565.0,\n",
       " 7547.0,\n",
       " 10583.0,\n",
       " 9240.0,\n",
       " 9018.0,\n",
       " 11055.0,\n",
       " 10032.0,\n",
       " 11553.0,\n",
       " 10108.0,\n",
       " 8063.0,\n",
       " 10677.0,\n",
       " 14575.0,\n",
       " 14786.0,\n",
       " 12615.0,\n",
       " 14148.0,\n",
       " 13903.0,\n",
       " 14026.0,\n",
       " 14357.0,\n",
       " 16112.0,\n",
       " 25272.0,\n",
       " 26531.0,\n",
       " 23545.0,\n",
       " 23224.0,\n",
       " 28518.0,\n",
       " 16363.0,\n",
       " 14678.0,\n",
       " 25665.0,\n",
       " 21737.0,\n",
       " 20509.0,\n",
       " 19003.0,\n",
       " 14614.0,\n",
       " 12744.0,\n",
       " 21231.0,\n",
       " 13458.0,\n",
       " 13564.0,\n",
       " 26872.0]"
      ]
     },
     "execution_count": 125,
     "metadata": {},
     "output_type": "execute_result"
    }
   ],
   "source": [
    "if __name__ == '__main__':\n",
    "    result = main()\n",
    "result"
   ]
  },
  {
   "cell_type": "code",
   "execution_count": 126,
   "metadata": {},
   "outputs": [
    {
     "data": {
      "image/png": "[encoded data removed]",
      "text/plain": [
       "<matplotlib.figure.Figure at 0x7f58e0eb9fd0>"
      ]
     },
     "metadata": {},
     "output_type": "display_data"
    }
   ],
   "source": [
    "plt.plot(result)\n",
    "plt.show()"
   ]
  },
  {
   "cell_type": "markdown",
   "metadata": {},
   "source": [
    "# eps_max = 0.5 && Fully connected layer 뉴런 개수 (4,256),(256,128),(128,2) \n",
    "## 학습이 더 잘된 0.5를 선택했습니다."
   ]
  },
  {
   "cell_type": "code",
   "execution_count": 132,
   "metadata": {},
   "outputs": [
    {
     "name": "stdout",
     "output_type": "stream",
     "text": [
      "n_episode :100, score : 13.3, eps : 49.1%\n",
      "n_episode :200, score : 14.5, eps : 48.2%\n",
      "n_episode :300, score : 12.6, eps : 47.3%\n",
      "n_episode :400, score : 13.4, eps : 46.4%\n",
      "n_episode :500, score : 15.5, eps : 45.5%\n",
      "n_episode :600, score : 37.5, eps : 44.6%\n",
      "n_episode :700, score : 55.9, eps : 43.7%\n",
      "n_episode :800, score : 98.4, eps : 42.8%\n",
      "n_episode :900, score : 152.7, eps : 41.9%\n",
      "n_episode :1000, score : 155.7, eps : 41.0%\n",
      "n_episode :1100, score : 156.5, eps : 40.1%\n",
      "n_episode :1200, score : 113.8, eps : 39.2%\n",
      "n_episode :1300, score : 104.2, eps : 38.3%\n",
      "n_episode :1400, score : 95.5, eps : 37.4%\n",
      "n_episode :1500, score : 85.6, eps : 36.5%\n",
      "n_episode :1600, score : 80.0, eps : 35.6%\n",
      "n_episode :1700, score : 83.0, eps : 34.7%\n",
      "n_episode :1800, score : 74.7, eps : 33.8%\n",
      "n_episode :1900, score : 65.2, eps : 32.9%\n",
      "n_episode :2000, score : 59.5, eps : 32.0%\n",
      "n_episode :2100, score : 60.0, eps : 31.1%\n",
      "n_episode :2200, score : 78.1, eps : 30.2%\n",
      "n_episode :2300, score : 84.2, eps : 29.3%\n",
      "n_episode :2400, score : 77.8, eps : 28.4%\n",
      "n_episode :2500, score : 95.1, eps : 27.5%\n",
      "n_episode :2600, score : 118.6, eps : 26.6%\n",
      "n_episode :2700, score : 131.0, eps : 25.7%\n",
      "n_episode :2800, score : 147.8, eps : 24.8%\n",
      "n_episode :2900, score : 163.9, eps : 23.9%\n",
      "n_episode :3000, score : 190.3, eps : 23.0%\n",
      "n_episode :3100, score : 179.6, eps : 22.1%\n",
      "n_episode :3200, score : 190.3, eps : 21.2%\n",
      "n_episode :3300, score : 212.8, eps : 20.3%\n",
      "n_episode :3400, score : 175.3, eps : 19.4%\n",
      "n_episode :3500, score : 264.3, eps : 18.5%\n",
      "n_episode :3600, score : 211.5, eps : 17.6%\n",
      "n_episode :3700, score : 202.4, eps : 16.7%\n",
      "n_episode :3800, score : 161.2, eps : 15.8%\n",
      "n_episode :3900, score : 202.0, eps : 14.9%\n",
      "n_episode :4000, score : 252.0, eps : 14.0%\n",
      "n_episode :4100, score : 346.7, eps : 13.1%\n",
      "n_episode :4200, score : 310.0, eps : 12.2%\n",
      "n_episode :4300, score : 271.1, eps : 11.3%\n",
      "n_episode :4400, score : 340.9, eps : 10.4%\n",
      "n_episode :4500, score : 324.8, eps : 9.5%\n",
      "n_episode :4600, score : 422.2, eps : 8.6%\n",
      "n_episode :4700, score : 325.5, eps : 7.7%\n",
      "n_episode :4800, score : 346.0, eps : 6.8%\n",
      "n_episode :4900, score : 370.4, eps : 5.9%\n"
     ]
    },
    {
     "data": {
      "text/plain": [
       "[1328.0,\n",
       " 1453.0,\n",
       " 1260.0,\n",
       " 1342.0,\n",
       " 1551.0,\n",
       " 3745.0,\n",
       " 5591.0,\n",
       " 9838.0,\n",
       " 15271.0,\n",
       " 15572.0,\n",
       " 15650.0,\n",
       " 11383.0,\n",
       " 10424.0,\n",
       " 9554.0,\n",
       " 8564.0,\n",
       " 8002.0,\n",
       " 8305.0,\n",
       " 7474.0,\n",
       " 6515.0,\n",
       " 5952.0,\n",
       " 5998.0,\n",
       " 7808.0,\n",
       " 8416.0,\n",
       " 7783.0,\n",
       " 9506.0,\n",
       " 11864.0,\n",
       " 13104.0,\n",
       " 14784.0,\n",
       " 16392.0,\n",
       " 19034.0,\n",
       " 17962.0,\n",
       " 19035.0,\n",
       " 21276.0,\n",
       " 17532.0,\n",
       " 26429.0,\n",
       " 21153.0,\n",
       " 20237.0,\n",
       " 16122.0,\n",
       " 20201.0,\n",
       " 25201.0,\n",
       " 34668.0,\n",
       " 31000.0,\n",
       " 27109.0,\n",
       " 34090.0,\n",
       " 32482.0,\n",
       " 42216.0,\n",
       " 32551.0,\n",
       " 34599.0,\n",
       " 37039.0]"
      ]
     },
     "execution_count": 132,
     "metadata": {},
     "output_type": "execute_result"
    }
   ],
   "source": [
    "if __name__ == '__main__':\n",
    "    result = main()\n",
    "result"
   ]
  },
  {
   "cell_type": "code",
   "execution_count": 133,
   "metadata": {},
   "outputs": [
    {
     "data": {
      "image/png": "[encoded data removed]",
      "text/plain": [
       "<matplotlib.figure.Figure at 0x7f58eb601940>"
      ]
     },
     "metadata": {},
     "output_type": "display_data"
    }
   ],
   "source": [
    "plt.plot(result)\n",
    "plt.show()"
   ]
  },
  {
   "cell_type": "markdown",
   "metadata": {},
   "source": [
    "# eps_max = 0.5 && Fully connected layer 뉴런 개수 (4,256),(256,256),(256,2) "
   ]
  },
  {
   "cell_type": "code",
   "execution_count": 11,
   "metadata": {},
   "outputs": [
    {
     "name": "stdout",
     "output_type": "stream",
     "text": [
      "n_episode :100, score : 12.3, eps : 49.1%\n",
      "n_episode :200, score : 14.3, eps : 48.2%\n",
      "n_episode :300, score : 14.2, eps : 47.3%\n",
      "n_episode :400, score : 21.2, eps : 46.4%\n",
      "n_episode :500, score : 15.5, eps : 45.5%\n",
      "n_episode :600, score : 29.0, eps : 44.6%\n",
      "n_episode :700, score : 54.1, eps : 43.7%\n",
      "n_episode :800, score : 69.7, eps : 42.8%\n",
      "n_episode :900, score : 106.0, eps : 41.9%\n",
      "n_episode :1000, score : 115.3, eps : 41.0%\n",
      "n_episode :1100, score : 77.1, eps : 40.1%\n",
      "n_episode :1200, score : 109.3, eps : 39.2%\n",
      "n_episode :1300, score : 104.0, eps : 38.3%\n",
      "n_episode :1400, score : 77.0, eps : 37.4%\n",
      "n_episode :1500, score : 99.8, eps : 36.5%\n",
      "n_episode :1600, score : 103.3, eps : 35.6%\n",
      "n_episode :1700, score : 90.6, eps : 34.7%\n",
      "n_episode :1800, score : 103.6, eps : 33.8%\n",
      "n_episode :1900, score : 77.5, eps : 32.9%\n",
      "n_episode :2000, score : 93.9, eps : 32.0%\n",
      "n_episode :2100, score : 76.6, eps : 31.1%\n",
      "n_episode :2200, score : 62.1, eps : 30.2%\n",
      "n_episode :2300, score : 99.3, eps : 29.3%\n",
      "n_episode :2400, score : 120.9, eps : 28.4%\n",
      "n_episode :2500, score : 212.9, eps : 27.5%\n",
      "n_episode :2600, score : 250.1, eps : 26.6%\n",
      "n_episode :2700, score : 211.1, eps : 25.7%\n",
      "n_episode :2800, score : 228.6, eps : 24.8%\n",
      "n_episode :2900, score : 365.3, eps : 23.9%\n",
      "n_episode :3000, score : 326.7, eps : 23.0%\n",
      "n_episode :3100, score : 270.4, eps : 22.1%\n",
      "n_episode :3200, score : 324.3, eps : 21.2%\n",
      "n_episode :3300, score : 213.4, eps : 20.3%\n",
      "n_episode :3400, score : 247.6, eps : 19.4%\n",
      "n_episode :3500, score : 217.5, eps : 18.5%\n",
      "n_episode :3600, score : 240.0, eps : 17.6%\n",
      "n_episode :3700, score : 282.0, eps : 16.7%\n",
      "n_episode :3800, score : 227.7, eps : 15.8%\n",
      "n_episode :3900, score : 189.8, eps : 14.9%\n",
      "n_episode :4000, score : 196.0, eps : 14.0%\n",
      "n_episode :4100, score : 187.3, eps : 13.1%\n",
      "n_episode :4200, score : 174.3, eps : 12.2%\n",
      "n_episode :4300, score : 300.6, eps : 11.3%\n",
      "n_episode :4400, score : 140.1, eps : 10.4%\n",
      "n_episode :4500, score : 134.7, eps : 9.5%\n",
      "n_episode :4600, score : 202.5, eps : 8.6%\n",
      "n_episode :4700, score : 230.5, eps : 7.7%\n",
      "n_episode :4800, score : 239.5, eps : 6.8%\n",
      "n_episode :4900, score : 240.5, eps : 5.9%\n"
     ]
    },
    {
     "data": {
      "text/plain": [
       "[1233.0,\n",
       " 1434.0,\n",
       " 1416.0,\n",
       " 2122.0,\n",
       " 1550.0,\n",
       " 2898.0,\n",
       " 5406.0,\n",
       " 6966.0,\n",
       " 10604.0,\n",
       " 11528.0,\n",
       " 7706.0,\n",
       " 10932.0,\n",
       " 10403.0,\n",
       " 7704.0,\n",
       " 9982.0,\n",
       " 10330.0,\n",
       " 9056.0,\n",
       " 10364.0,\n",
       " 7751.0,\n",
       " 9390.0,\n",
       " 7657.0,\n",
       " 6212.0,\n",
       " 9927.0,\n",
       " 12086.0,\n",
       " 21290.0,\n",
       " 25006.0,\n",
       " 21107.0,\n",
       " 22861.0,\n",
       " 36529.0,\n",
       " 32673.0,\n",
       " 27040.0,\n",
       " 32429.0,\n",
       " 21340.0,\n",
       " 24761.0,\n",
       " 21749.0,\n",
       " 24000.0,\n",
       " 28204.0,\n",
       " 22774.0,\n",
       " 18975.0,\n",
       " 19596.0,\n",
       " 18726.0,\n",
       " 17428.0,\n",
       " 30057.0,\n",
       " 14007.0,\n",
       " 13470.0,\n",
       " 20247.0,\n",
       " 23050.0,\n",
       " 23954.0,\n",
       " 24052.0]"
      ]
     },
     "execution_count": 11,
     "metadata": {},
     "output_type": "execute_result"
    }
   ],
   "source": [
    "if __name__ == '__main__':\n",
    "    result = main()\n",
    "result"
   ]
  },
  {
   "cell_type": "code",
   "execution_count": 12,
   "metadata": {},
   "outputs": [
    {
     "data": {
      "image/png": "[encoded data removed]",
      "text/plain": [
       "<matplotlib.figure.Figure at 0x7f0e462c6b70>"
      ]
     },
     "metadata": {},
     "output_type": "display_data"
    }
   ],
   "source": [
    "plt.plot(result)\n",
    "plt.show()"
   ]
  },
  {
   "cell_type": "markdown",
   "metadata": {},
   "source": [
    "# eps_max = 0.5 && Fully connected layer 뉴런 개수 (4,256),(256,256),(256,2) && learning rate = 0.5"
   ]
  },
  {
   "cell_type": "code",
   "execution_count": 18,
   "metadata": {},
   "outputs": [
    {
     "name": "stdout",
     "output_type": "stream",
     "text": [
      "n_episode :100, score : 17.5, eps : 49.1%\n",
      "n_episode :200, score : 13.5, eps : 48.2%\n",
      "n_episode :300, score : 12.6, eps : 47.3%\n",
      "n_episode :400, score : 13.4, eps : 46.4%\n",
      "n_episode :500, score : 13.3, eps : 45.5%\n",
      "n_episode :600, score : 13.8, eps : 44.6%\n",
      "n_episode :700, score : 12.8, eps : 43.7%\n",
      "n_episode :800, score : 12.0, eps : 42.8%\n",
      "n_episode :900, score : 12.5, eps : 41.9%\n",
      "n_episode :1000, score : 12.9, eps : 41.0%\n",
      "n_episode :1100, score : 12.2, eps : 40.1%\n",
      "n_episode :1200, score : 13.4, eps : 39.2%\n",
      "n_episode :1300, score : 12.3, eps : 38.3%\n",
      "n_episode :1400, score : 12.3, eps : 37.4%\n",
      "n_episode :1500, score : 12.3, eps : 36.5%\n",
      "n_episode :1600, score : 11.2, eps : 35.6%\n",
      "n_episode :1700, score : 11.8, eps : 34.7%\n",
      "n_episode :1800, score : 11.7, eps : 33.8%\n",
      "n_episode :1900, score : 11.7, eps : 32.9%\n",
      "n_episode :2000, score : 11.6, eps : 32.0%\n",
      "n_episode :2100, score : 11.4, eps : 31.1%\n",
      "n_episode :2200, score : 11.4, eps : 30.2%\n",
      "n_episode :2300, score : 11.0, eps : 29.3%\n",
      "n_episode :2400, score : 11.5, eps : 28.4%\n",
      "n_episode :2500, score : 10.9, eps : 27.5%\n",
      "n_episode :2600, score : 11.0, eps : 26.6%\n",
      "n_episode :2700, score : 10.8, eps : 25.7%\n",
      "n_episode :2800, score : 11.2, eps : 24.8%\n",
      "n_episode :2900, score : 11.3, eps : 23.9%\n",
      "n_episode :3000, score : 10.9, eps : 23.0%\n",
      "n_episode :3100, score : 10.8, eps : 22.1%\n",
      "n_episode :3200, score : 10.7, eps : 21.2%\n",
      "n_episode :3300, score : 10.8, eps : 20.3%\n",
      "n_episode :3400, score : 10.4, eps : 19.4%\n",
      "n_episode :3500, score : 10.6, eps : 18.5%\n",
      "n_episode :3600, score : 10.3, eps : 17.6%\n",
      "n_episode :3700, score : 10.2, eps : 16.7%\n",
      "n_episode :3800, score : 10.3, eps : 15.8%\n",
      "n_episode :3900, score : 10.3, eps : 14.9%\n",
      "n_episode :4000, score : 10.1, eps : 14.0%\n",
      "n_episode :4100, score : 10.0, eps : 13.1%\n",
      "n_episode :4200, score : 10.4, eps : 12.2%\n",
      "n_episode :4300, score : 10.2, eps : 11.3%\n",
      "n_episode :4400, score : 10.0, eps : 10.4%\n",
      "n_episode :4500, score : 9.9, eps : 9.5%\n",
      "n_episode :4600, score : 9.9, eps : 8.6%\n",
      "n_episode :4700, score : 9.9, eps : 7.7%\n",
      "n_episode :4800, score : 9.7, eps : 6.8%\n",
      "n_episode :4900, score : 9.5, eps : 5.9%\n"
     ]
    },
    {
     "data": {
      "text/plain": [
       "[1753.0,\n",
       " 1353.0,\n",
       " 1264.0,\n",
       " 1341.0,\n",
       " 1335.0,\n",
       " 1383.0,\n",
       " 1282.0,\n",
       " 1201.0,\n",
       " 1248.0,\n",
       " 1286.0,\n",
       " 1225.0,\n",
       " 1343.0,\n",
       " 1233.0,\n",
       " 1232.0,\n",
       " 1235.0,\n",
       " 1125.0,\n",
       " 1182.0,\n",
       " 1174.0,\n",
       " 1173.0,\n",
       " 1163.0,\n",
       " 1141.0,\n",
       " 1141.0,\n",
       " 1099.0,\n",
       " 1149.0,\n",
       " 1086.0,\n",
       " 1102.0,\n",
       " 1084.0,\n",
       " 1117.0,\n",
       " 1128.0,\n",
       " 1087.0,\n",
       " 1082.0,\n",
       " 1068.0,\n",
       " 1084.0,\n",
       " 1043.0,\n",
       " 1057.0,\n",
       " 1032.0,\n",
       " 1018.0,\n",
       " 1035.0,\n",
       " 1030.0,\n",
       " 1005.0,\n",
       " 1000.0,\n",
       " 1036.0,\n",
       " 1022.0,\n",
       " 997.0,\n",
       " 990.0,\n",
       " 988.0,\n",
       " 988.0,\n",
       " 971.0,\n",
       " 954.0]"
      ]
     },
     "execution_count": 18,
     "metadata": {},
     "output_type": "execute_result"
    }
   ],
   "source": [
    "if __name__ == '__main__':\n",
    "    result = main()\n",
    "result"
   ]
  },
  {
   "cell_type": "code",
   "execution_count": 19,
   "metadata": {},
   "outputs": [
    {
     "data": {
      "image/png": "[encoded data removed]",
      "text/plain": [
       "<matplotlib.figure.Figure at 0x7f0e44085b70>"
      ]
     },
     "metadata": {},
     "output_type": "display_data"
    }
   ],
   "source": [
    "plt.plot(result)\n",
    "plt.show()"
   ]
  },
  {
   "cell_type": "code",
   "execution_count": null,
   "metadata": {},
   "outputs": [],
   "source": []
  }
 ],
 "metadata": {
  "kernelspec": {
   "display_name": "Python 3",
   "language": "python",
   "name": "python3"
  },
  "language_info": {
   "codemirror_mode": {
    "name": "ipython",
    "version": 3
   },
   "file_extension": ".py",
   "mimetype": "text/x-python",
   "name": "python",
   "nbconvert_exporter": "python",
   "pygments_lexer": "ipython3",
   "version": "3.8.5"
  }
 },
 "nbformat": 4,
 "nbformat_minor": 2
}
